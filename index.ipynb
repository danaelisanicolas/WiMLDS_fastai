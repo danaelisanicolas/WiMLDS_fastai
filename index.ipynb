{
 "cells": [
  {
   "cell_type": "code",
   "execution_count": null,
   "metadata": {},
   "outputs": [],
   "source": [
    "#hide\n",
    "from your_lib.core import *"
   ]
  },
  {
   "cell_type": "markdown",
   "metadata": {},
   "source": [
    "# WiMLDS Sydney fast.ai study group\n",
    "\n",
    "> Docs and resources for WiMLDS fast.ai study group\n",
    "\n",
    "Hi! Thanks for joining us :) \n",
    "\n",
    "Here are all the documents and resources that that you will need to participate.  Most detailed planning and questions will go through our slack workspace, but this repo is a fixed reference for all resources so that they don't get lost in the chat. If we run it again this will also allow us to learn from, and build on, the experiences of this group.\n",
    "\n",
    "We will also be adding a selection of worked example notebooks depending on what people produce and/or need.  If you create any useful helper functions, interesting datasets or fun models that you want to share or get feedback on, we would love for you to submit a PR and include them here as well."
   ]
  },
  {
   "cell_type": "markdown",
   "metadata": {},
   "source": [
    "## How to get started"
   ]
  },
  {
   "cell_type": "markdown",
   "metadata": {},
   "source": [
    "<b>0. RSVP to the kickoff event</b>\n",
    "\n",
    "http://bit.ly/WiMLDSfastai\n",
    "\n",
    "<b>1. Join us on slack by completing our survey</b>\n",
    "\n",
    "http://bit.ly/WiMLDS_Slack_Request\n",
    "\n",
    "Please note, that whilst WiMLDS events are open to all, in order to provide a safe space for learning, the slack channel itself is open to women and gender minority individuals only. We hope you understand. Do feel free to join us at the kickoff event, but ongoing participation in the study group will not be possible if you cannot join on slack. \n",
    "\n",
    "<b>2. Setup a personal AWS account and request a service limit increase</b>\n",
    "\n",
    "Our kickoff event has been kindly sponsored by AWS Sydney, and as part of this, participants will be provided with a voucher for cloud compute credits. If you follow all the necessary best practices that are shared during the training at the kickoff event, it is our expectation that you will be able to complete the course without incurring any additional cloud compute costs.  \n",
    "\n",
    "***This step must be completed in advance of the kickoff event so that you can add the credits to your account on the night***\n",
    "\n",
    "If you find that you exhaust your voucher before completing the course, there's nothing stopping you from completing it in some other manner (there are plenty of good options here: https://course.fast.ai/#using-a-gpu) and someone in the slack channel will be able to support you to find the best choice if required."
   ]
  },
  {
   "cell_type": "markdown",
   "metadata": {},
   "source": [
    "## Schedule"
   ]
  },
  {
   "cell_type": "markdown",
   "metadata": {},
   "source": [
    "All sessions will be run via Zoom.  Meeting links will be posted prior to each session via slack.  \n",
    "\n",
    "Note: Dates for part 2 are not scheduled - there will be an optional break inserted to catch up on exercises if required by the majority of the group.\n",
    "\n",
    "#### Format\n",
    "\n",
    "The course is entirely self-contained and can easily be completed in an asynchronous fashion. The idea behind a study group like this is simply that with a bit of accountability and support, the likelihood of success is much higher, and also much more fun. If there is a session or two that don't work for your schedule, this in no way precludes you from catching up in your own time and jumping back in. \n",
    "\n",
    "Each meeting will be approximately 1.5hrs in duration. The first half of the session will be a review of concepts from the previous lesson, and watching a portion of videos from the current lesson. The second half will be the interactive portion, where we discuss the newly presented concepts and/or work through demos or exercises.\n",
    "\n",
    "In the time between each session, you will watch the remaining videos, complete the homework exercises and support each other via the slack channel.\n",
    "\n",
    "#### Facilitators\n",
    "\n",
    "We are looking for volunteer facilitators! The organisational team have lots of varied deep learning experience, but are *not* fast.ai experts. We are learning alongside you, and are committed to running all the sessions if nobody puts their hand up, but we encourage anyone to step out of their comfort zone and challenge themselves to facilitating a session. There's often no better way to learn and truely understand than to explain to others!\n",
    "\n",
    "Feel free to nominate a session from the topic list below if you have a particular interest, otherwise just pick a date and jump in!\n",
    "\n",
    "<em>What is involved in facilitating a session?</em>\n",
    "\n",
    "This is somewhat up to the facilitator - this is a guide for where to start, but please adapt based on your skills / interest / discussion in the slack channel showing a particular need. It'll take around 2 hours of additional preparation time.\n",
    "\n",
    "1. Prepare 5-15 minutes of content to consolidate the previous session. This could be a presentation or worked examples depending on your preference. There is some great content available here to help: https://github.com/hiromis/notes\n",
    "2. You should review the relevant content ahead of time and select the key videos to share during the session (suggested up to half an hour). \n",
    "3. Plan some prompts for discussion and/or examples to work through. This can be as loose or as structured as you like - different weeks will lend themselves to different formats.\n",
    "4. OPTIONAL: 100% of classes will be hosted via zoom, but if you have access to a suitable meeting room where you can offer an in-person option as well for your particular week, please feel free. "
   ]
  },
  {
   "cell_type": "markdown",
   "metadata": {},
   "source": [
    "| Event      | Date/Time          | Location            | Facilitator    | Topic                             |\n",
    "|------------|-----------------------------|---------------------|-----------------------------------------|--------|\n",
    "| Kickoff    | Monday, March 23rd, 6pm     | AWS, Sydney| Moose, Georgie    | SageMaker tutorial, cloud credit distribution, introductory session|\n",
    "| <b>Part 1.</b>  |               |                     |             |                                    |\n",
    "| Session 1  | Monday, April 6th, 8pm      | Online              | Georgie | Image classification  |\n",
    "| Session 2  | Monday, April 20th, 8pm     | Online              | Shel    | Production, SGD from scratch  |\n",
    "| Session 3  | Monday, May 4th, 8pm        | Online              | Ankita     | Multi-label, Segmentation   |\n",
    "| Session 4  | Monday, May 18th, 8pm       | Online              | Dana    | NLP, Tabular data, Recsys                                     |\n",
    "| Session 5  | Monday, June 1st, 8pm       | Online              | TBC     | Backprop, Neural net from scratch  |\n",
    "| Session 6  | Monday, June 15th, 8pm      | Online              | TBC     | CNN deep dive, Ethics  |\n",
    "| Session 7  | Monday, June 29th, 8pm      | Online              | TBC     | Resnet, U-net, GANs  |\n",
    "| <b>Part 2.</b>    |  |\n",
    "| Session 8  | TBC       | Online              | Georgie | Backprop from the foundations |\n",
    "| Session 9  | TBC      | Online              | Shel    | The training in depth | \n",
    "| Session 10 | TBC     | Online              | Dana    | Looking inside the model | \n",
    "| Session 11 | TBC    | Online              | TBC     | Data Block API, generic optimiser |\n",
    "| Session 12 | TBC    | Online              | TBC     | Advanced training, UMLFiT |\n",
    "| Session 13 | TBC | Online              | TBC     | Swift - deep learning basics |\n",
    "| Session 14 | TBC| Online              | TBC     | Swift - putting it all together | \n",
    "| PARTY      | Probably a Friday night     | Somewhere super fun | |Someone's company want to sponsor this? |"
   ]
  },
  {
   "cell_type": "markdown",
   "metadata": {},
   "source": [
    "## Resources\n",
    "\n",
    "The course: https://course.fast.ai/"
   ]
  },
  {
   "cell_type": "markdown",
   "metadata": {},
   "source": [
    "## Status\n",
    "\n",
    "This section should be filled in on a week-by-week basis by the facilitator so that we have precise expectations to help us stay on track and can always look back and review past experiences.\n",
    "\n",
    "<b>0. Kickoff Session</b>\n",
    "\n",
    "Prework:\n",
    "* Setup AWS personal account & request service limit increase\n",
    "* Bring laptop with you\n",
    "\n",
    "In Class:\n",
    "\n",
    "After Class:\n",
    "\n",
    "<b>1. Lesson 1</b>\n",
    "\n",
    "Prework:\n",
    "\n",
    "In Class:\n",
    "\n",
    "After Class:\n",
    "\n"
   ]
  },
  {
   "cell_type": "code",
   "execution_count": null,
   "metadata": {},
   "outputs": [],
   "source": []
  }
 ],
 "metadata": {
  "kernelspec": {
   "display_name": "Python 3",
   "language": "python",
   "name": "python3"
  }
 },
 "nbformat": 4,
 "nbformat_minor": 4
}
